{
 "cells": [
  {
   "cell_type": "code",
   "execution_count": 1,
   "metadata": {},
   "outputs": [],
   "source": [
    "from osgeo import gdal, osr\n",
    "import numpy as np\n",
    "import matplotlib.pyplot as plt\n"
   ]
  },
  {
   "cell_type": "code",
   "execution_count": 37,
   "metadata": {},
   "outputs": [
    {
     "data": {
      "text/html": [
       "<div>\n",
       "<style scoped>\n",
       "    .dataframe tbody tr th:only-of-type {\n",
       "        vertical-align: middle;\n",
       "    }\n",
       "\n",
       "    .dataframe tbody tr th {\n",
       "        vertical-align: top;\n",
       "    }\n",
       "\n",
       "    .dataframe thead th {\n",
       "        text-align: right;\n",
       "    }\n",
       "</style>\n",
       "<table border=\"1\" class=\"dataframe\">\n",
       "  <thead>\n",
       "    <tr style=\"text-align: right;\">\n",
       "      <th></th>\n",
       "      <th>A</th>\n",
       "      <th>B</th>\n",
       "      <th>C</th>\n",
       "    </tr>\n",
       "  </thead>\n",
       "  <tbody>\n",
       "    <tr>\n",
       "      <th>0</th>\n",
       "      <td>NaN</td>\n",
       "      <td>0.000000</td>\n",
       "      <td>0.000000</td>\n",
       "    </tr>\n",
       "    <tr>\n",
       "      <th>1</th>\n",
       "      <td>NaN</td>\n",
       "      <td>1.098612</td>\n",
       "      <td>1.098612</td>\n",
       "    </tr>\n",
       "    <tr>\n",
       "      <th>2</th>\n",
       "      <td>NaN</td>\n",
       "      <td>0.000000</td>\n",
       "      <td>0.000000</td>\n",
       "    </tr>\n",
       "    <tr>\n",
       "      <th>3</th>\n",
       "      <td>NaN</td>\n",
       "      <td>0.000000</td>\n",
       "      <td>0.000000</td>\n",
       "    </tr>\n",
       "    <tr>\n",
       "      <th>4</th>\n",
       "      <td>NaN</td>\n",
       "      <td>1.098612</td>\n",
       "      <td>1.098612</td>\n",
       "    </tr>\n",
       "    <tr>\n",
       "      <th>5</th>\n",
       "      <td>1.386294</td>\n",
       "      <td>1.386294</td>\n",
       "      <td>1.386294</td>\n",
       "    </tr>\n",
       "    <tr>\n",
       "      <th>6</th>\n",
       "      <td>1.609438</td>\n",
       "      <td>1.609438</td>\n",
       "      <td>1.609438</td>\n",
       "    </tr>\n",
       "    <tr>\n",
       "      <th>7</th>\n",
       "      <td>1.791759</td>\n",
       "      <td>1.791759</td>\n",
       "      <td>1.791759</td>\n",
       "    </tr>\n",
       "  </tbody>\n",
       "</table>\n",
       "</div>"
      ],
      "text/plain": [
       "          A         B         C\n",
       "0       NaN  0.000000  0.000000\n",
       "1       NaN  1.098612  1.098612\n",
       "2       NaN  0.000000  0.000000\n",
       "3       NaN  0.000000  0.000000\n",
       "4       NaN  1.098612  1.098612\n",
       "5  1.386294  1.386294  1.386294\n",
       "6  1.609438  1.609438  1.609438\n",
       "7  1.791759  1.791759  1.791759"
      ]
     },
     "execution_count": 37,
     "metadata": {},
     "output_type": "execute_result"
    }
   ],
   "source": [
    "df"
   ]
  },
  {
   "cell_type": "code",
   "execution_count": 40,
   "metadata": {},
   "outputs": [
    {
     "data": {
      "text/plain": [
       "1.5958305809273485"
      ]
     },
     "execution_count": 40,
     "metadata": {},
     "output_type": "execute_result"
    }
   ],
   "source": [
    "df.A.mean()"
   ]
  },
  {
   "cell_type": "code",
   "execution_count": 2,
   "metadata": {},
   "outputs": [],
   "source": [
    "row=1800; col=3600\n",
    "a= np.ones((row, col, 365), dtype=np.float16)"
   ]
  },
  {
   "cell_type": "code",
   "execution_count": 4,
   "metadata": {},
   "outputs": [
    {
     "data": {
      "text/plain": [
       "4730400000"
      ]
     },
     "execution_count": 4,
     "metadata": {},
     "output_type": "execute_result"
    }
   ],
   "source": [
    "a.itemsize*a.size"
   ]
  },
  {
   "cell_type": "code",
   "execution_count": 2,
   "metadata": {},
   "outputs": [],
   "source": [
    "gauge_1= gdal.Open('./rainfall_analysis/gauge4km/ST2gg2017082500.Grb.tif')\n",
    "gauge_2= gdal.Open('./cleaned/gauge4km/ST2gg2017082500.Grb.tif')\n",
    "\n"
   ]
  },
  {
   "cell_type": "code",
   "execution_count": 18,
   "metadata": {},
   "outputs": [],
   "source": [
    "import pandas as pd\n",
    "df= pd.DataFrame({'A':[np.nan,np.nan,np.nan,np.nan,np.nan,4,5,6],\n",
    "             'B':[2,3,1,2,3,4,5,6],\n",
    "             'C':[2,3,1,2,3,4,5,6]})\n",
    "\n",
    "# df.clip(lower=2, inplace= True)\n",
    "df= df.apply(np.log)\n",
    "df[df<1]=0"
   ]
  },
  {
   "cell_type": "code",
   "execution_count": 29,
   "metadata": {},
   "outputs": [
    {
     "data": {
      "text/plain": [
       "[(1, 2),\n",
       " (2, 3),\n",
       " (3, 4),\n",
       " (4, 5),\n",
       " (5, 6),\n",
       " (6, 7),\n",
       " (7, 8),\n",
       " (8, 9),\n",
       " (9, 10),\n",
       " (10, 11)]"
      ]
     },
     "execution_count": 29,
     "metadata": {},
     "output_type": "execute_result"
    }
   ],
   "source": [
    "import multiprocessing\n",
    "pool= multiprocessing.Pool(4)\n",
    "\n",
    "def single(i):\n",
    "    j= i+1\n",
    "    m= i+2\n",
    "    return j,m\n",
    "\n",
    "inputs= range(10)\n",
    "a= pool.map(single, inputs)\n",
    "\n",
    "a"
   ]
  },
  {
   "cell_type": "code",
   "execution_count": 30,
   "metadata": {},
   "outputs": [
    {
     "data": {
      "text/plain": [
       "-4.605170185988091"
      ]
     },
     "execution_count": 30,
     "metadata": {},
     "output_type": "execute_result"
    }
   ],
   "source": [
    "np.log(0.01)"
   ]
  },
  {
   "cell_type": "code",
   "execution_count": 7,
   "metadata": {},
   "outputs": [
    {
     "data": {
      "text/plain": [
       "array([], dtype=float32)"
      ]
     },
     "execution_count": 7,
     "metadata": {},
     "output_type": "execute_result"
    }
   ],
   "source": [
    "gauge_2.ReadAsArray()[np.isnan(gauge_2.ReadAsArray())]"
   ]
  },
  {
   "cell_type": "code",
   "execution_count": 2,
   "metadata": {},
   "outputs": [],
   "source": [
    "# explotionary analysis\n",
    "gauge_pth= './rainfall_analysis/gauge4km/ST2gg2017082500.Grb.tif'\n",
    "sat_pth= './rainfall_analysis/GPMrt1H4kmw/nimerg20170825S000000.tif'\n",
    "rad_pth= './rainfall_analysis/mrmsrt1H4kmw/nPrecipRate_00.00_20170825-000000.grib2-var0-z0.tif'\n",
    "\n",
    "gauge= gdal.Open(gauge_pth)\n",
    "sat= gdal.Open(sat_pth)\n",
    "radar= gdal.Open(rad_pth)"
   ]
  },
  {
   "cell_type": "code",
   "execution_count": 3,
   "metadata": {},
   "outputs": [],
   "source": [
    "#get projection:\n",
    "def projection(src):\n",
    "    return src.GetProjection()\n"
   ]
  },
  {
   "cell_type": "code",
   "execution_count": 4,
   "metadata": {},
   "outputs": [
    {
     "name": "stdout",
     "output_type": "stream",
     "text": [
      "gauge projection:  GEOGCS[\"WGS 84\",DATUM[\"WGS_1984\",SPHEROID[\"WGS 84\",6378137,298.257223563,AUTHORITY[\"EPSG\",\"7030\"]],AUTHORITY[\"EPSG\",\"6326\"]],PRIMEM[\"Greenwich\",0],UNIT[\"degree\",0.0174532925199433],AUTHORITY[\"EPSG\",\"4326\"]]\n",
      "satellite projection:  GEOGCS[\"WGS 84\",DATUM[\"WGS_1984\",SPHEROID[\"WGS 84\",6378137,298.257223563,AUTHORITY[\"EPSG\",\"7030\"]],AUTHORITY[\"EPSG\",\"6326\"]],PRIMEM[\"Greenwich\",0],UNIT[\"degree\",0.0174532925199433],AUTHORITY[\"EPSG\",\"4326\"]]\n",
      "radar projection:  GEOGCS[\"WGS 84\",DATUM[\"WGS_1984\",SPHEROID[\"WGS 84\",6378137,298.257223563,AUTHORITY[\"EPSG\",\"7030\"]],AUTHORITY[\"EPSG\",\"6326\"]],PRIMEM[\"Greenwich\",0],UNIT[\"degree\",0.0174532925199433],AUTHORITY[\"EPSG\",\"4326\"]]\n"
     ]
    }
   ],
   "source": [
    "print('gauge projection: ', projection(gauge))\n",
    "print('satellite projection: ', projection(sat))\n",
    "print('radar projection: ', projection(radar))"
   ]
  },
  {
   "cell_type": "code",
   "execution_count": 109,
   "metadata": {},
   "outputs": [],
   "source": [
    "gauge_data= gauge.ReadAsArray()\n",
    "sat_data= sat.ReadAsArray()\n",
    "radar_data= radar.ReadAsArray()"
   ]
  },
  {
   "cell_type": "code",
   "execution_count": 17,
   "metadata": {},
   "outputs": [
    {
     "name": "stdout",
     "output_type": "stream",
     "text": [
      "gauge shape: (215, 294)\n",
      "satellite shape: (218, 301)\n",
      "radar shape: (215, 296)\n"
     ]
    }
   ],
   "source": [
    "print('gauge shape:',gauge_data.shape)\n",
    "print('satellite shape:',sat_data.shape)\n",
    "print('radar shape:', radar_data.shape)"
   ]
  },
  {
   "cell_type": "code",
   "execution_count": 11,
   "metadata": {},
   "outputs": [
    {
     "name": "stdout",
     "output_type": "stream",
     "text": [
      "(-101.0, 0.04421768707482993, 0.0, 35.0, 0.0, -0.044186046511627906)\n",
      "(-101.101724138, 0.04421052631579, 0.0, 35.0, 0.0, -0.044186047)\n",
      "(-101.100006104, 0.04421052631579, 0.0, 34.999855042, 0.0, -0.044186047)\n"
     ]
    }
   ],
   "source": [
    "#xoffset, px_w, rot1, yoffset, rot2 ,px_h = ds.GetGeoTransform()\n",
    "\n",
    "def getGeoTransform(src):\n",
    "    return src.GetGeoTransform()\n",
    "print(getGeoTransform(gauge))\n",
    "print(getGeoTransform(radar))\n",
    "print(getGeoTransform(sat))"
   ]
  },
  {
   "cell_type": "code",
   "execution_count": 139,
   "metadata": {},
   "outputs": [
    {
     "data": {
      "text/plain": [
       "-0.043809523809523805"
      ]
     },
     "execution_count": 139,
     "metadata": {},
     "output_type": "execute_result"
    }
   ],
   "source": [
    "(25.8-35)/num_rows"
   ]
  },
  {
   "cell_type": "code",
   "execution_count": 142,
   "metadata": {},
   "outputs": [],
   "source": [
    "import affine\n",
    "#construct a new array with shape (210,294)\n",
    "num_rows= 210\n",
    "num_cols= 294\n",
    "width= (101.0-88.05)/num_cols\n",
    "height= -(25.8-35)/num_rows\n",
    "begX= -101.0\n",
    "begY= 35.0\n",
    "rot1= 0\n",
    "rot2= 0\n",
    "# array shape (209,293)\n",
    "#posX = px_w * x + rot1 * y + xoffset\n",
    "#posY = rot2 * x + px_h * y + yoffset\n",
    "\n",
    "def initial_estimate(data_source):\n",
    "    global width, rot1, begX, rot2, height, begY\n",
    "    xoffset, px_w, rot1, yoffset, rot2 , px_h = getGeoTransform(data_source)\n",
    "    forward_transform =  \\\n",
    "        affine.Affine.from_gdal(*data_source.GetGeoTransform())\n",
    "    reverse_transform = ~forward_transform\n",
    "    px, py = reverse_transform * (begX, begY)\n",
    "    px, py = int(px + 0.5), int(py + 0.5)\n",
    "        \n",
    "    return py\n",
    "\n",
    "def get_value(src, row, col):\n",
    "    return src.ReadAsArray()[row, col]\n",
    "\n",
    "def get_array(src):\n",
    "    global width, rot1, begX, rot2, height, begY, num_cols, num_rows\n",
    "    first= True\n",
    "    new_arr= np.zeros((num_rows,num_cols), dtype=np.float64)\n",
    "    for i in range(num_rows):\n",
    "        if first:\n",
    "            prev_col=initial_estimate(src)-1\n",
    "            first= False\n",
    "        _temp= 0\n",
    "        for j in range(num_cols):\n",
    "            x= i*width+begX\n",
    "            y= -height*j+begY\n",
    "            val, row, col= retrieve_pixel_value(src, (x, y))\n",
    "            new_arr[i,j]= val\n",
    "            if col-prev_col!=1 and j!=0:\n",
    "                _temp= get_value(src, row, prev_col)\n",
    "                if _temp>val: new_arr[i,j]=_temp\n",
    "                prev_col= col\n",
    "#                 print(prev_col, col)\n",
    "            else:\n",
    "                prev_col= col\n",
    "    \n",
    "    return new_arr\n",
    "        \n",
    "        \n",
    "\n",
    "def resample(src, posX, posY):\n",
    "    # get CRS from dataset\n",
    "    crs = osr.SpatialReference()\n",
    "    crs.ImportFromWkt(src.GetProjectionRef())\n",
    "    xoffset, px_w, rot1, yoffset, rot2 ,px_h = getGeoTransform(src)\n",
    "    row, col= int((posY-yoffset)//px_h), int((posX-xoffset)//px_w)\n",
    "    if col< 0:\n",
    "        interval_col= -col\n",
    "    else:\n",
    "        interval_col=0\n",
    "    col+=interval_col\n",
    "    if row< 0:\n",
    "        interval_row= -row\n",
    "    else:\n",
    "        interval_row= 0\n",
    "    row+= interval_row\n",
    "    # create lat/long crs with WGS84 datum\n",
    "#     crsGeo = osr.SpatialReference()\n",
    "#     crsGeo.ImportFromEPSG(4326) # 4326 is the EPSG id of lat/long crs \n",
    "#     t = osr.CoordinateTransformation(crs, crsGeo)\n",
    "#     (lat, long, z) = t.TransformPoint(posX, posY)\n",
    "    data= src.ReadAsArray()\n",
    "    return data[row, col], row, col\n",
    "\n",
    "\n",
    "\n",
    "def retrieve_pixel_value(data_source, geo_coord):\n",
    "    \"\"\"Return floating-point value that corresponds to given point.\"\"\"\n",
    "    x, y = geo_coord[0], geo_coord[1]\n",
    "    forward_transform =  \\\n",
    "        affine.Affine.from_gdal(*data_source.GetGeoTransform())\n",
    "    reverse_transform = ~forward_transform\n",
    "    px, py = reverse_transform * (x, y)\n",
    "    px, py = int(px + 0.5), int(py + 0.5)\n",
    "    pixel_coord = px, py\n",
    "\n",
    "    data_array = np.array(data_source.GetRasterBand(1).ReadAsArray())\n",
    "    return data_array[pixel_coord[0]][pixel_coord[1]], px, py"
   ]
  },
  {
   "cell_type": "code",
   "execution_count": 143,
   "metadata": {},
   "outputs": [],
   "source": [
    "gauge_new= get_array(gauge)\n",
    "radar_new= get_array(radar)\n",
    "sat_new= get_array(sat)"
   ]
  },
  {
   "cell_type": "code",
   "execution_count": 114,
   "metadata": {},
   "outputs": [
    {
     "data": {
      "text/plain": [
       "31.01431655883789"
      ]
     },
     "execution_count": 114,
     "metadata": {},
     "output_type": "execute_result"
    }
   ],
   "source": [
    "sat_new.max()"
   ]
  },
  {
   "cell_type": "code",
   "execution_count": 121,
   "metadata": {},
   "outputs": [
    {
     "data": {
      "text/plain": [
       "<matplotlib.image.AxesImage at 0x11d47f850>"
      ]
     },
     "execution_count": 121,
     "metadata": {},
     "output_type": "execute_result"
    },
    {
     "data": {
      "image/png": "[encoded data removed]",
      "text/plain": [
       "<Figure size 432x288 with 1 Axes>"
      ]
     },
     "metadata": {
      "needs_background": "light"
     },
     "output_type": "display_data"
    }
   ],
   "source": [
    "plt.imshow(radar_data)"
   ]
  },
  {
   "cell_type": "code",
   "execution_count": 124,
   "metadata": {},
   "outputs": [
    {
     "data": {
      "text/plain": [
       "-9999.0"
      ]
     },
     "execution_count": 124,
     "metadata": {},
     "output_type": "execute_result"
    }
   ],
   "source": [
    "gauge_data.min()"
   ]
  },
  {
   "cell_type": "code",
   "execution_count": 144,
   "metadata": {},
   "outputs": [
    {
     "data": {
      "text/plain": [
       "<matplotlib.image.AxesImage at 0x11dc2ccd0>"
      ]
     },
     "execution_count": 144,
     "metadata": {},
     "output_type": "execute_result"
    },
    {
     "data": {
      "image/png": "[encoded data removed]",
      "text/plain": [
       "<Figure size 720x576 with 3 Axes>"
      ]
     },
     "metadata": {
      "needs_background": "light"
     },
     "output_type": "display_data"
    }
   ],
   "source": [
    "fig, ax= plt.subplots(1,3,figsize=(10,8))\n",
    "ax[0].imshow(sat_new)\n",
    "ax[1].imshow(gauge_new)\n",
    "ax[2].imshow(radar_new)"
   ]
  },
  {
   "cell_type": "code",
   "execution_count": 148,
   "metadata": {},
   "outputs": [
    {
     "data": {
      "text/plain": [
       "-1.0"
      ]
     },
     "execution_count": 148,
     "metadata": {},
     "output_type": "execute_result"
    }
   ],
   "source": [
    "radar_data.min()"
   ]
  },
  {
   "cell_type": "code",
   "execution_count": 136,
   "metadata": {},
   "outputs": [],
   "source": [
    "# write .tif file\n",
    "geo_trans= (begX, width, rot1, begY, height, rot2)\n",
    "\n",
    "def write(new_arr,old_obj, dst):\n",
    "    \n",
    "    global geo_trans\n",
    "    rows, cols= new_arr.shape\n",
    "    driver= gdal.GetDriverByName(\"GTiff\")\n",
    "    outdata = driver.Create(dst, cols, rows, 1, gdal.GDT_Float32)\n",
    "    crs= old_obj.GetProjection()\n",
    "    outdata.SetGeoTransform(geo_trans)\n",
    "    outdata.SetProjection(crs)\n",
    "    outdata.GetRasterBand(1).WriteArray(new_arr)"
   ]
  },
  {
   "cell_type": "code",
   "execution_count": null,
   "metadata": {},
   "outputs": [],
   "source": []
  },
  {
   "cell_type": "code",
   "execution_count": 146,
   "metadata": {},
   "outputs": [],
   "source": [
    "write(radar_new, radar, 'radar_new.tif')"
   ]
  },
  {
   "cell_type": "code",
   "execution_count": 151,
   "metadata": {},
   "outputs": [
    {
     "data": {
      "text/plain": [
       "(-101.0, 0.04404761904761906, 0.0, 35.0, -0.043809523809523805, 0.0)"
      ]
     },
     "execution_count": 151,
     "metadata": {},
     "output_type": "execute_result"
    }
   ],
   "source": [
    "getGeoTransform(gdal.Open('gauge_new.tif'))"
   ]
  },
  {
   "cell_type": "code",
   "execution_count": 54,
   "metadata": {},
   "outputs": [],
   "source": [
    "import affine\n",
    "\n",
    "def retrieve_pixel_value(geo_coord, data_source):\n",
    "    \"\"\"Return floating-point value that corresponds to given point.\"\"\"\n",
    "    x, y = geo_coord[0], geo_coord[1]\n",
    "    forward_transform =  \\\n",
    "        affine.Affine.from_gdal(*data_source.GetGeoTransform())\n",
    "    reverse_transform = ~forward_transform\n",
    "    px, py = reverse_transform * (x, y)\n",
    "    px, py = int(px + 0.5), int(py + 0.5)\n",
    "    pixel_coord = px, py\n",
    "    print(pixel_coord)\n",
    "\n",
    "    data_array = np.array(data_source.GetRasterBand(1).ReadAsArray())\n",
    "    return data_array[pixel_coord[0]][pixel_coord[1]]"
   ]
  },
  {
   "cell_type": "code",
   "execution_count": 28,
   "metadata": {},
   "outputs": [],
   "source": [
    "posX= [begX+i*width for i in range(294)]\n",
    "posY= [begY+j*height for j in range(210)]"
   ]
  },
  {
   "cell_type": "code",
   "execution_count": 29,
   "metadata": {},
   "outputs": [
    {
     "data": {
      "text/plain": [
       "25.765116386000003"
      ]
     },
     "execution_count": 29,
     "metadata": {},
     "output_type": "execute_result"
    }
   ],
   "source": [
    "posY[-1]"
   ]
  },
  {
   "cell_type": "code",
   "execution_count": 32,
   "metadata": {},
   "outputs": [],
   "source": [
    "def GetExtent(src):\n",
    "    ''' Return list of corner coordinates from a geotransform\n",
    "\n",
    "        @type gt:   C{tuple/list}\n",
    "        @param gt: geotransform\n",
    "        @type cols:   C{int}\n",
    "        @param cols: number of columns in the dataset\n",
    "        @type rows:   C{int}\n",
    "        @param rows: number of rows in the dataset\n",
    "        @rtype:    C{[float,...,float]}\n",
    "        @return:   coordinates of each corner\n",
    "    '''\n",
    "    xoffset, px_w, rot1, yoffset, rot2 ,px_h = getGeoTransform(src)\n",
    "    data= src.ReadAsArray()\n",
    "    rows, cols= data.shape\n",
    "    left= xoffset\n",
    "    right= xoffset+px_w*cols\n",
    "    upper= yoffset\n",
    "    lower= yoffset+px_h*rows\n",
    "    \n",
    "    return {'left': left, 'right': right, 'upper':upper, 'lower':lower}\n"
   ]
  },
  {
   "cell_type": "code",
   "execution_count": 34,
   "metadata": {},
   "outputs": [
    {
     "name": "stdout",
     "output_type": "stream",
     "text": [
      "gauge extent : {'left': -101.0, 'right': -88.0, 'upper': 35.0, 'lower': 25.5}\n",
      "radar extent : {'left': -101.101724138, 'right': -88.01540834852615, 'upper': 35.0, 'lower': 25.499999895000002}\n",
      "sat extent : {'left': -101.100006104, 'right': -87.79263768294722, 'upper': 34.999855042, 'lower': 25.367296795999998}\n"
     ]
    }
   ],
   "source": [
    "print('gauge extent : %s'%GetExtent(gauge))\n",
    "print('radar extent : %s'%GetExtent(radar))\n",
    "print('sat extent : %s'%GetExtent(sat))"
   ]
  },
  {
   "cell_type": "code",
   "execution_count": 49,
   "metadata": {},
   "outputs": [
    {
     "data": {
      "text/plain": [
       "1.2708863"
      ]
     },
     "execution_count": 49,
     "metadata": {},
     "output_type": "execute_result"
    }
   ],
   "source": [
    "radar_data[0,100]"
   ]
  },
  {
   "cell_type": "code",
   "execution_count": 58,
   "metadata": {},
   "outputs": [
    {
     "data": {
      "text/plain": [
       "(2.300903121428746, 0.0)"
      ]
     },
     "execution_count": 58,
     "metadata": {},
     "output_type": "execute_result"
    }
   ],
   "source": [
    "~affine.Affine.from_gdal(*radar.GetGeoTransform())*(-101.0,35)"
   ]
  },
  {
   "cell_type": "code",
   "execution_count": 12,
   "metadata": {},
   "outputs": [],
   "source": [
    "from tc import TripleCollocation"
   ]
  },
  {
   "cell_type": "code",
   "execution_count": 14,
   "metadata": {},
   "outputs": [
    {
     "ename": "NameError",
     "evalue": "name 'thread1' is not defined",
     "output_type": "error",
     "traceback": [
      "\u001b[0;31m---------------------------------------------------------------------------\u001b[0m",
      "\u001b[0;31mNameError\u001b[0m                                 Traceback (most recent call last)",
      "\u001b[0;32m<ipython-input-14-230495c5990b>\u001b[0m in \u001b[0;36m<module>\u001b[0;34m\u001b[0m\n\u001b[1;32m      1\u001b[0m \u001b[0mtc\u001b[0m\u001b[0;34m=\u001b[0m \u001b[0mTripleCollocation\u001b[0m\u001b[0;34m(\u001b[0m\u001b[0;34m)\u001b[0m\u001b[0;34m\u001b[0m\u001b[0;34m\u001b[0m\u001b[0m\n\u001b[0;32m----> 2\u001b[0;31m \u001b[0mRMSE\u001b[0m\u001b[0;34m,\u001b[0m \u001b[0mCC\u001b[0m\u001b[0;34m=\u001b[0m \u001b[0mtc\u001b[0m\u001b[0;34m.\u001b[0m\u001b[0mmain\u001b[0m\u001b[0;34m(\u001b[0m\u001b[0;34m)\u001b[0m\u001b[0;34m\u001b[0m\u001b[0;34m\u001b[0m\u001b[0m\n\u001b[0m",
      "\u001b[0;32m~/Documents/TC/TC/tc.py\u001b[0m in \u001b[0;36mmain\u001b[0;34m(self)\u001b[0m\n\u001b[1;32m     30\u001b[0m             \u001b[0;32mfor\u001b[0m \u001b[0mjj\u001b[0m \u001b[0;32min\u001b[0m \u001b[0mrange\u001b[0m\u001b[0;34m(\u001b[0m\u001b[0mj\u001b[0m\u001b[0;34m)\u001b[0m\u001b[0;34m:\u001b[0m\u001b[0;34m\u001b[0m\u001b[0;34m\u001b[0m\u001b[0m\n\u001b[1;32m     31\u001b[0m                 \u001b[0mts\u001b[0m\u001b[0;34m=\u001b[0m \u001b[0mPixelTS\u001b[0m\u001b[0;34m(\u001b[0m\u001b[0;34m)\u001b[0m\u001b[0;34m.\u001b[0m\u001b[0msinglePixel\u001b[0m\u001b[0;34m(\u001b[0m\u001b[0mii\u001b[0m\u001b[0;34m,\u001b[0m\u001b[0mjj\u001b[0m\u001b[0;34m)\u001b[0m\u001b[0;34m\u001b[0m\u001b[0;34m\u001b[0m\u001b[0m\n\u001b[0;32m---> 32\u001b[0;31m                 \u001b[0mts\u001b[0m\u001b[0;34m=\u001b[0m \u001b[0mself\u001b[0m\u001b[0;34m.\u001b[0m\u001b[0mpreprocess\u001b[0m\u001b[0;34m(\u001b[0m\u001b[0mts\u001b[0m\u001b[0;34m)\u001b[0m\u001b[0;34m\u001b[0m\u001b[0;34m\u001b[0m\u001b[0m\n\u001b[0m\u001b[1;32m     33\u001b[0m                 \u001b[0;32mif\u001b[0m \u001b[0mlen\u001b[0m\u001b[0;34m(\u001b[0m\u001b[0mts\u001b[0m\u001b[0;34m)\u001b[0m\u001b[0;34m==\u001b[0m\u001b[0;36m0\u001b[0m\u001b[0;34m:\u001b[0m\u001b[0;34m\u001b[0m\u001b[0;34m\u001b[0m\u001b[0m\n\u001b[1;32m     34\u001b[0m                     \u001b[0mRMSE\u001b[0m\u001b[0;34m[\u001b[0m\u001b[0mind\u001b[0m\u001b[0;34m,\u001b[0m\u001b[0;34m:\u001b[0m\u001b[0;34m]\u001b[0m\u001b[0;34m=\u001b[0m \u001b[0;34m-\u001b[0m\u001b[0;36m9999\u001b[0m\u001b[0;34m\u001b[0m\u001b[0;34m\u001b[0m\u001b[0m\n",
      "\u001b[0;32m~/Documents/TC/TC/tc.py\u001b[0m in \u001b[0;36mpreprocess\u001b[0;34m(self, data, threshold1, threshold2)\u001b[0m\n\u001b[1;32m     52\u001b[0m     \u001b[0;32mdef\u001b[0m \u001b[0mpreprocess\u001b[0m\u001b[0;34m(\u001b[0m\u001b[0mself\u001b[0m\u001b[0;34m,\u001b[0m \u001b[0mdata\u001b[0m\u001b[0;34m,\u001b[0m \u001b[0mthreshold1\u001b[0m\u001b[0;34m=\u001b[0m\u001b[0;36m0\u001b[0m\u001b[0;34m,\u001b[0m \u001b[0mthreshold2\u001b[0m\u001b[0;34m=\u001b[0m\u001b[0;36m0.01\u001b[0m\u001b[0;34m)\u001b[0m\u001b[0;34m:\u001b[0m\u001b[0;34m\u001b[0m\u001b[0;34m\u001b[0m\u001b[0m\n\u001b[1;32m     53\u001b[0m         \u001b[0;31m# this function drops nan and values between thresholds\u001b[0m\u001b[0;34m\u001b[0m\u001b[0;34m\u001b[0m\u001b[0;34m\u001b[0m\u001b[0m\n\u001b[0;32m---> 54\u001b[0;31m         \u001b[0mcols\u001b[0m\u001b[0;34m=\u001b[0m \u001b[0mdata\u001b[0m\u001b[0;34m.\u001b[0m\u001b[0mcolumns\u001b[0m\u001b[0;34m\u001b[0m\u001b[0;34m\u001b[0m\u001b[0m\n\u001b[0m\u001b[1;32m     55\u001b[0m         \u001b[0;32mfor\u001b[0m \u001b[0mcol\u001b[0m \u001b[0;32min\u001b[0m \u001b[0mcols\u001b[0m\u001b[0;34m:\u001b[0m\u001b[0;34m\u001b[0m\u001b[0;34m\u001b[0m\u001b[0m\n\u001b[1;32m     56\u001b[0m             \u001b[0mdata\u001b[0m\u001b[0;34m.\u001b[0m\u001b[0mclip\u001b[0m\u001b[0;34m(\u001b[0m\u001b[0mlower\u001b[0m\u001b[0;34m=\u001b[0m\u001b[0mthreshold2\u001b[0m\u001b[0;34m,\u001b[0m \u001b[0minplace\u001b[0m\u001b[0;34m=\u001b[0m\u001b[0;32mTrue\u001b[0m\u001b[0;34m)\u001b[0m\u001b[0;34m\u001b[0m\u001b[0;34m\u001b[0m\u001b[0m\n",
      "\u001b[0;31mNameError\u001b[0m: name 'thread1' is not defined"
     ]
    }
   ],
   "source": [
    "tc= TripleCollocation()\n",
    "RMSE, CC= tc.main()"
   ]
  }
 ],
 "metadata": {
  "kernelspec": {
   "display_name": "Python 3",
   "language": "python",
   "name": "python3"
  },
  "language_info": {
   "codemirror_mode": {
    "name": "ipython",
    "version": 3
   },
   "file_extension": ".py",
   "mimetype": "text/x-python",
   "name": "python",
   "nbconvert_exporter": "python",
   "pygments_lexer": "ipython3",
   "version": "3.7.4"
  }
 },
 "nbformat": 4,
 "nbformat_minor": 2
}
